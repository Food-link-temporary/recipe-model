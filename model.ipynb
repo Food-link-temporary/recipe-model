{
 "cells": [
  {
   "attachments": {},
   "cell_type": "markdown",
   "id": "fb133296",
   "metadata": {},
   "source": [
    "# 데이터 불러오기"
   ]
  },
  {
   "cell_type": "code",
   "execution_count": 4,
   "id": "a8e372d3-5b54-4a20-8f1f-489b24991ee8",
   "metadata": {},
   "outputs": [],
   "source": [
    "import pandas as pd\n",
    "from ast import literal_eval\n",
    "\n",
    "df = pd.read_csv(\"recipe3.csv\")\n",
    "df[\"x\"] = df[\"x\"].apply(literal_eval)\n",
    "df[\"x\"] = df[\"x\"].apply(lambda x: ', '.join(x))\n",
    "df[\"recipeIngredient\"] = df[\"recipeIngredient\"].apply(literal_eval)\n",
    "df[\"recipeInstructions\"] = df[\"recipeInstructions\"].apply(literal_eval)"
   ]
  },
  {
   "attachments": {},
   "cell_type": "markdown",
   "id": "1861175b",
   "metadata": {},
   "source": [
    "## 라벨 생성 (레시피명 + 조리과정)"
   ]
  },
  {
   "cell_type": "code",
   "execution_count": 5,
   "id": "49fd03e9-0ec1-4a0b-b5fb-c95d94eb8fb7",
   "metadata": {},
   "outputs": [
    {
     "data": {
      "text/html": [
       "<div>\n",
       "<style scoped>\n",
       "    .dataframe tbody tr th:only-of-type {\n",
       "        vertical-align: middle;\n",
       "    }\n",
       "\n",
       "    .dataframe tbody tr th {\n",
       "        vertical-align: top;\n",
       "    }\n",
       "\n",
       "    .dataframe thead th {\n",
       "        text-align: right;\n",
       "    }\n",
       "</style>\n",
       "<table border=\"1\" class=\"dataframe\">\n",
       "  <thead>\n",
       "    <tr style=\"text-align: right;\">\n",
       "      <th></th>\n",
       "      <th>x</th>\n",
       "      <th>y</th>\n",
       "    </tr>\n",
       "  </thead>\n",
       "  <tbody>\n",
       "    <tr>\n",
       "      <th>0</th>\n",
       "      <td>통 삼겹, 청경채, 대파, 양파, 통마늘, 생강, 통후추, 월계수잎, 진간장, 굴 ...</td>\n",
       "      <td>(집에서 즐기는 술안주) 동파육 - 통삼겹 요리 / 홈파티 요리\\n\\n홈 파티 요리...</td>\n",
       "    </tr>\n",
       "    <tr>\n",
       "      <th>1</th>\n",
       "      <td>당근, 양파, 표고버섯, 목이버섯, 어묵, 호박고지, 돼지고기 잡채용, 시금치나물,...</td>\n",
       "      <td>#잡채만들기 #간단하게 만드는 잡채 #한꺼번에 볶아내면 금방 뚝딱 만드는 잡채!!!...</td>\n",
       "    </tr>\n",
       "    <tr>\n",
       "      <th>2</th>\n",
       "      <td>닭볶음용 닭, 양파, 당근, 감자, 대파, 고추장, 다진 마늘, 맛술, 고춧가루, ...</td>\n",
       "      <td>푹 익힌 닭에 깊은 양념맛이 좋은 닭볶음탕\\n\\n요즘 마트에가면 닭볶음용 온가족세트...</td>\n",
       "    </tr>\n",
       "    <tr>\n",
       "      <th>3</th>\n",
       "      <td>배추, 양파, 사과, 배, 당근, 무, 쪽파, 홍고추, 골드 키위, 소금, 새우젓,...</td>\n",
       "      <td>맵지않아 더욱더 맛나다는 백김치의 비법은?\\n\\n배추 2포기를 4등분으로 잘라주신후...</td>\n",
       "    </tr>\n",
       "    <tr>\n",
       "      <th>4</th>\n",
       "      <td>메밀가루, 계란, 우유, 3층 치즈 2장, 아몬드 슬라이스, 건 크랜베리, 강황가루...</td>\n",
       "      <td>메밀부꾸미\\n\\n껍질벗긴 메밀3T를 분쇄기로 갈아요\\n (시판 메밀가루 3T 쓰셔도...</td>\n",
       "    </tr>\n",
       "  </tbody>\n",
       "</table>\n",
       "</div>"
      ],
      "text/plain": [
       "                                                   x  \\\n",
       "0  통 삼겹, 청경채, 대파, 양파, 통마늘, 생강, 통후추, 월계수잎, 진간장, 굴 ...   \n",
       "1  당근, 양파, 표고버섯, 목이버섯, 어묵, 호박고지, 돼지고기 잡채용, 시금치나물,...   \n",
       "2  닭볶음용 닭, 양파, 당근, 감자, 대파, 고추장, 다진 마늘, 맛술, 고춧가루, ...   \n",
       "3  배추, 양파, 사과, 배, 당근, 무, 쪽파, 홍고추, 골드 키위, 소금, 새우젓,...   \n",
       "4  메밀가루, 계란, 우유, 3층 치즈 2장, 아몬드 슬라이스, 건 크랜베리, 강황가루...   \n",
       "\n",
       "                                                   y  \n",
       "0  (집에서 즐기는 술안주) 동파육 - 통삼겹 요리 / 홈파티 요리\\n\\n홈 파티 요리...  \n",
       "1  #잡채만들기 #간단하게 만드는 잡채 #한꺼번에 볶아내면 금방 뚝딱 만드는 잡채!!!...  \n",
       "2  푹 익힌 닭에 깊은 양념맛이 좋은 닭볶음탕\\n\\n요즘 마트에가면 닭볶음용 온가족세트...  \n",
       "3  맵지않아 더욱더 맛나다는 백김치의 비법은?\\n\\n배추 2포기를 4등분으로 잘라주신후...  \n",
       "4  메밀부꾸미\\n\\n껍질벗긴 메밀3T를 분쇄기로 갈아요\\n (시판 메밀가루 3T 쓰셔도...  "
      ]
     },
     "execution_count": 5,
     "metadata": {},
     "output_type": "execute_result"
    }
   ],
   "source": [
    "df[\"y\"] = df.apply(lambda row: row[\"name\"]+\"\\n\\n\"+'\\n'.join(row[\"recipeInstructions\"]), axis=1)\n",
    "df = df[[\"x\",\"y\"]]\n",
    "df.head()"
   ]
  },
  {
   "attachments": {},
   "cell_type": "markdown",
   "id": "3e668cdf",
   "metadata": {},
   "source": [
    "# 모델 학습"
   ]
  },
  {
   "cell_type": "code",
   "execution_count": null,
   "id": "0cfb39b8",
   "metadata": {},
   "outputs": [],
   "source": [
    "pip install torch"
   ]
  },
  {
   "cell_type": "code",
   "execution_count": null,
   "id": "dff08959",
   "metadata": {},
   "outputs": [],
   "source": [
    "pip install transformers"
   ]
  },
  {
   "cell_type": "code",
   "execution_count": null,
   "id": "533921c9",
   "metadata": {},
   "outputs": [],
   "source": [
    "pip install sentencepiece"
   ]
  },
  {
   "cell_type": "code",
   "execution_count": null,
   "id": "08af73ef-cd14-4dbe-8ea3-1c6e43262fe7",
   "metadata": {},
   "outputs": [],
   "source": [
    "from transformers import T5Tokenizer, T5ForConditionalGeneration, Trainer, TrainingArguments\n",
    "import pandas as pd\n",
    "import numpy as np\n",
    "import torch\n",
    "\n",
    "# 학습용 입력, 출력 데이터 생성\n",
    "inputs = df[\"x\"].values\n",
    "outputs = df[\"y\"].values\n",
    "\n",
    "# T5 모델과 토크나이저 로딩\n",
    "model_name = \"t5-base\"\n",
    "tokenizer = T5Tokenizer.from_pretrained(model_name)\n",
    "model = T5ForConditionalGeneration.from_pretrained(model_name)\n",
    "\n",
    "# 인코딩 및 패딩\n",
    "input_ids = tokenizer.batch_encode_plus(inputs, padding=True, max_length=128, return_tensors=\"pt\")[\"input_ids\"]\n",
    "output_ids = tokenizer.batch_encode_plus(outputs, padding=True, max_length=128, return_tensors=\"pt\")[\"input_ids\"]\n",
    "\n",
    "# 학습 인스턴스 생성\n",
    "train_dataset = torch.utils.data.TensorDataset(input_ids, output_ids)\n",
    "\n",
    "# 훈련 인자 설정\n",
    "training_args = TrainingArguments(\n",
    "    output_dir='./results',          # 모델 체크포인트와 예측 결과를 저장할 경로\n",
    "    num_train_epochs=3,              # 전체 학습 에폭 수\n",
    "    per_device_train_batch_size=8,   # 한번의 학습에 사용할 배치 크기\n",
    "    per_device_eval_batch_size=8,    # 한번의 평가에 사용할 배치 크기\n",
    "    warmup_steps=500,                # learning rate warmup step 수\n",
    "    weight_decay=0.01,               # 가중치 감소 비율\n",
    "    logging_dir='./logs',            # 학습 로그 저장 경로\n",
    "    logging_steps=500,               # 학습 로그 저장 간격\n",
    "    eval_steps=500,                  # 평가 스텝 간격\n",
    "    save_total_limit=5               # 저장할 체크포인트 파일 수\n",
    ")\n",
    "\n",
    "# 훈련 인스턴스 생성 및 학습 시작\n",
    "trainer = Trainer(model=model, args=training_args, train_dataset=train_dataset)\n",
    "trainer.train()"
   ]
  },
  {
   "attachments": {},
   "cell_type": "markdown",
   "id": "5e92c52a",
   "metadata": {},
   "source": [
    "---"
   ]
  },
  {
   "attachments": {},
   "cell_type": "markdown",
   "id": "5193bee9",
   "metadata": {},
   "source": [
    "# 사전학습 모델 테스트"
   ]
  },
  {
   "cell_type": "code",
   "execution_count": 45,
   "id": "bf5896a6-4f13-4041-9338-3c517e337c8a",
   "metadata": {
    "collapsed": true,
    "jupyter": {
     "outputs_hidden": true
    },
    "tags": []
   },
   "outputs": [
    {
     "name": "stderr",
     "output_type": "stream",
     "text": [
      "The tokenizer class you load from this checkpoint is not the same type as the class this function is called from. It may result in unexpected tokenization. \n",
      "The tokenizer class you load from this checkpoint is 'GPT2Tokenizer'. \n",
      "The class this function is called from is 'PreTrainedTokenizerFast'.\n"
     ]
    },
    {
     "name": "stdout",
     "output_type": "stream",
     "text": [
      "\n",
      "'코코넛설탕', '토막난 닭', '말린 가지', '멸치다시마육수'\n",
      "위 재료를 사용하는 요리명과 레시피는 다음과 같습니다.\n",
      "\n",
      "1. 닭가슴살\n",
      "2. 닭가슴살\n",
      "3. 닭가슴살\n",
      "4. 닭가슴살\n",
      "5. 닭가슴살\n",
      "6. 닭가슴살\n",
      "7. 닭가슴살\n",
      "8. 닭가슴살\n",
      "9. 닭가슴살\n",
      "10. 닭가슴살\n",
      "11. 닭가슴살\n",
      "12. 닭가슴살\n",
      "13. 닭가슴살\n",
      "14. 닭가슴살\n",
      "15. 닭가슴살\n",
      "16. 닭가슴살\n",
      "17. 닭가슴살\n",
      "19. 닭가슴살\n",
      "20. 닭가슴살\n",
      "20. 닭가슴\n"
     ]
    }
   ],
   "source": [
    "from transformers import PreTrainedTokenizerFast, GPT2LMHeadModel\n",
    "\n",
    "# load the pre-trained KoGPT tokenizer\n",
    "tokenizer = PreTrainedTokenizerFast.from_pretrained('skt/kogpt2-base-v2')\n",
    "\n",
    "# load the pre-trained KoGPT model\n",
    "model = GPT2LMHeadModel.from_pretrained('skt/kogpt2-base-v2')\n",
    "\n",
    "# generate text using the model\n",
    "input_text = \"\"\"\n",
    "'코코넛설탕', '토막난 닭', '말린 가지', '멸치다시마육수'\n",
    "위 재료를 사용하는 요리명과 레시피는 다음과 같습니다.\n",
    "\n",
    "\"\"\"\n",
    "input_ids = tokenizer.encode(input_text, return_tensors='pt')\n",
    "output = model.generate(input_ids, max_length=150, do_sample=True, temperature=0.3)\n",
    "generated_text = tokenizer.decode(output[0], skip_special_tokens=True)\n",
    "\n",
    "print(generated_text)"
   ]
  }
 ],
 "metadata": {
  "kernelspec": {
   "display_name": "Python 3 (ipykernel)",
   "language": "python",
   "name": "python3"
  },
  "language_info": {
   "codemirror_mode": {
    "name": "ipython",
    "version": 3
   },
   "file_extension": ".py",
   "mimetype": "text/x-python",
   "name": "python",
   "nbconvert_exporter": "python",
   "pygments_lexer": "ipython3",
   "version": "3.9.14"
  }
 },
 "nbformat": 4,
 "nbformat_minor": 5
}
